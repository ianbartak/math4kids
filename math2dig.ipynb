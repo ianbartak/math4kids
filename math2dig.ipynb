{
 "cells": [
  {
   "cell_type": "code",
   "execution_count": 1,
   "id": "bb2e95dc-640a-4c0c-bf42-4fcb71195efb",
   "metadata": {},
   "outputs": [],
   "source": [
    "import random"
   ]
  },
  {
   "cell_type": "code",
   "execution_count": 8,
   "id": "ac500117-0af0-4414-a5f2-cf74194abcfb",
   "metadata": {},
   "outputs": [],
   "source": [
    "def generate_math_problems(n_addition=10, n_subtraction=10):\n",
    "    problems = []\n",
    "    answers = []\n",
    "    \n",
    "    for _ in range(n_addition):\n",
    "        # Generate two random two-digit numbers for addition\n",
    "        a = random.randint(10, 99)\n",
    "        b = random.randint(10, 99)\n",
    "        problems.append(f\"{a} + {b} = ?\")\n",
    "        answers.append(a + b)\n",
    "        \n",
    "    for _ in range(n_subtraction):\n",
    "        # Generate two random two-digit numbers for subtraction,\n",
    "        # ensuring the result is non-negative\n",
    "        a = random.randint(10, 99)\n",
    "        b = random.randint(10, a)  # to avoid negative results\n",
    "        problems.append(f\"{a} - {b} = ?\")\n",
    "        answers.append(a - b)\n",
    "    \n",
    "    return problems, answers\n",
    "\n",
    "\n",
    "def display_problems(problems):\n",
    "    for i, problem in enumerate(problems):\n",
    "        print(f\"Problem {i+1}: {problem}\")\n",
    "        \n",
    "def display_answers(answers):\n",
    "    for i, answer in enumerate(answers):\n",
    "        print(f\"Answer {i+1}: {answer}\")"
   ]
  },
  {
   "cell_type": "code",
   "execution_count": 9,
   "id": "28d6a764-0861-4b24-baa4-b4656b912186",
   "metadata": {},
   "outputs": [
    {
     "name": "stdout",
     "output_type": "stream",
     "text": [
      "Problem 1: 56 + 13 = ?\n",
      "Problem 2: 86 + 14 = ?\n",
      "Problem 3: 35 + 89 = ?\n",
      "Problem 4: 20 + 18 = ?\n",
      "Problem 5: 62 + 77 = ?\n",
      "Problem 6: 65 + 74 = ?\n",
      "Problem 7: 92 + 24 = ?\n",
      "Problem 8: 92 + 14 = ?\n",
      "Problem 9: 20 + 54 = ?\n",
      "Problem 10: 60 + 34 = ?\n",
      "Problem 11: 38 - 24 = ?\n",
      "Problem 12: 79 - 51 = ?\n",
      "Problem 13: 65 - 37 = ?\n",
      "Problem 14: 42 - 37 = ?\n",
      "Problem 15: 51 - 48 = ?\n",
      "Problem 16: 51 - 30 = ?\n",
      "Problem 17: 47 - 28 = ?\n",
      "Problem 18: 13 - 11 = ?\n",
      "Problem 19: 33 - 26 = ?\n",
      "Problem 20: 85 - 65 = ?\n"
     ]
    }
   ],
   "source": [
    "# Generate and display 10 addition and 10 subtraction problems\n",
    "n_addition = 10\n",
    "n_subtraction = 10\n",
    "problems, answers = generate_math_problems(n_addition, n_subtraction)\n",
    "display_problems(problems)"
   ]
  },
  {
   "cell_type": "code",
   "execution_count": 10,
   "id": "5e79f6a9-e926-44b1-96b0-ff6b02b97582",
   "metadata": {},
   "outputs": [
    {
     "name": "stdout",
     "output_type": "stream",
     "text": [
      "Answer 1: 69\n",
      "Answer 2: 100\n",
      "Answer 3: 124\n",
      "Answer 4: 38\n",
      "Answer 5: 139\n",
      "Answer 6: 139\n",
      "Answer 7: 116\n",
      "Answer 8: 106\n",
      "Answer 9: 74\n",
      "Answer 10: 94\n",
      "Answer 11: 14\n",
      "Answer 12: 28\n",
      "Answer 13: 28\n",
      "Answer 14: 5\n",
      "Answer 15: 3\n",
      "Answer 16: 21\n",
      "Answer 17: 19\n",
      "Answer 18: 2\n",
      "Answer 19: 7\n",
      "Answer 20: 20\n"
     ]
    }
   ],
   "source": [
    "display_answers(answers)"
   ]
  }
 ],
 "metadata": {
  "kernelspec": {
   "display_name": "Python 3 (ipykernel)",
   "language": "python",
   "name": "python3"
  },
  "language_info": {
   "codemirror_mode": {
    "name": "ipython",
    "version": 3
   },
   "file_extension": ".py",
   "mimetype": "text/x-python",
   "name": "python",
   "nbconvert_exporter": "python",
   "pygments_lexer": "ipython3",
   "version": "3.10.5"
  }
 },
 "nbformat": 4,
 "nbformat_minor": 5
}
